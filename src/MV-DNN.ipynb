{
 "cells": [
  {
   "cell_type": "markdown",
   "metadata": {},
   "source": [
    "# A Multi-View Deep Learning Approach for Cross Domain User Modeling in Recommendation Systems"
   ]
  },
  {
   "cell_type": "markdown",
   "metadata": {},
   "source": [
    "ref: http://liaha.github.io/models/2016/06/21/dssm-on-tensorflow.html"
   ]
  },
  {
   "cell_type": "code",
   "execution_count": 12,
   "metadata": {},
   "outputs": [],
   "source": [
    "import tensorflow as tf\n",
    "import numpy as np"
   ]
  },
  {
   "cell_type": "code",
   "execution_count": 13,
   "metadata": {},
   "outputs": [],
   "source": [
    "DIM_USER = 10000\n",
    "DIM_ITEM1 = 100000\n",
    "\n",
    "DIM_L1 = 400\n",
    "DIM_L2 = 120\n",
    "\n",
    "NUM_NEG = 50"
   ]
  },
  {
   "cell_type": "code",
   "execution_count": 25,
   "metadata": {},
   "outputs": [],
   "source": [
    "def variable_summaries(var, name):\n",
    "    \"\"\"Attach a lot of summaries to a Tensor.\"\"\"\n",
    "    with tf.name_scope('summaries'):\n",
    "        mean = tf.reduce_mean(var)\n",
    "        tf.summary.scalar('mean/' + name, mean)\n",
    "        with tf.name_scope('stddev'):\n",
    "            stddev = tf.sqrt(tf.reduce_sum(tf.square(var - mean)))\n",
    "        tf.summary.scalar('sttdev/' + name, stddev)\n",
    "        tf.summary.scalar('max/' + name, tf.reduce_max(var))\n",
    "        tf.summary.scalar('min/' + name, tf.reduce_min(var))\n",
    "        tf.summary.histogram(name, var)"
   ]
  },
  {
   "cell_type": "code",
   "execution_count": 18,
   "metadata": {},
   "outputs": [],
   "source": [
    "with tf.name_scope('Input'):\n",
    "    user_batch = tf.sparse_placeholder(tf.float32, \n",
    "                                        shape=[None, DIM_USER], \n",
    "                                         name='QueryBatch')\n",
    "    item1_batch = tf.sparse_placeholder(tf.float32, \n",
    "                                        shape=[None, DIM_ITEM1], \n",
    "                                        name='DocBatch')"
   ]
  },
  {
   "cell_type": "code",
   "execution_count": 27,
   "metadata": {},
   "outputs": [],
   "source": [
    "with tf.name_scope('Layer_1'):\n",
    "    l1_par_range = np.sqrt(2 * 3.0 / (DIM_USER + DIM_L1))\n",
    "    weight_user_l1 = tf.Variable(tf.random_uniform([DIM_USER, DIM_L1], -l1_par_range, l1_par_range))\n",
    "    bias_user_l1 = tf.Variable(tf.random_uniform([DIM_L1], -l1_par_range, l1_par_range))\n",
    "    weight_item1_l1 = tf.Variable(tf.random_uniform([DIM_ITEM1, DIM_L1], -l1_par_range, l1_par_range))\n",
    "    bias_item1_l1 = tf.Variable(tf.random_uniform([DIM_L1], -l1_par_range, l1_par_range))\n",
    "    variable_summaries(weight_user_l1, 'L1_user_weights')\n",
    "    variable_summaries(bias_user_l1, 'L1_user_biases')\n",
    "    variable_summaries(weight_item1_l1, 'L1_item1_weights')\n",
    "    variable_summaries(bias_item1_l1, 'L1_item1_biases')\n",
    "    user_l1 = tf.sparse_tensor_dense_matmul(user_batch, weight_user_l1) + bias_user_l1\n",
    "    item1_l1 = tf.sparse_tensor_dense_matmul(item1_batch, weight_item1_l1) + bias_item1_l1\n",
    "    user_l1 = tf.nn.relu(user_l1)\n",
    "    item1_l1 = tf.nn.relu(item1_l1)"
   ]
  },
  {
   "cell_type": "code",
   "execution_count": 31,
   "metadata": {},
   "outputs": [],
   "source": [
    "with tf.name_scope('Layer_2'):\n",
    "    l2_par_range = np.sqrt(2 * 3.0 / (DIM_L1 + DIM_L2))\n",
    "    weight_user_l2 = tf.Variable(tf.random_uniform([DIM_L1, DIM_L2], -l2_par_range, l2_par_range))\n",
    "    bias_user_l2 = tf.Variable(tf.random_uniform([DIM_L2], -l2_par_range, l2_par_range))\n",
    "    weight_item1_l2 = tf.Variable(tf.random_uniform([DIM_L1, DIM_L2], -l2_par_range, l2_par_range))\n",
    "    bias_item1_l2 = tf.Variable(tf.random_uniform([DIM_L2], -l2_par_range, l2_par_range))\n",
    "    variable_summaries(weight_user_l2, 'L2_user_weights')\n",
    "    variable_summaries(bias_user_l2, 'L2_user_biases')\n",
    "    variable_summaries(weight_item1_l2, 'L2_item1_weights')\n",
    "    variable_summaries(bias_item1_l2, 'L2_item1_biases')\n",
    "    user_l2 = tf.matmul(user_l1, weight_user_l2) + bias_user_l2\n",
    "    item1_l2 = tf.matmul(item1_l1, weight_item1_l2) + bias_item1_l2\n",
    "    user_l2 = tf.nn.relu(user_l2)\n",
    "    item1_l2 = tf.nn.relu(item1_l2)"
   ]
  },
  {
   "cell_type": "code",
   "execution_count": null,
   "metadata": {},
   "outputs": [],
   "source": []
  }
 ],
 "metadata": {
  "kernelspec": {
   "display_name": "Python 3",
   "language": "python",
   "name": "python3"
  },
  "language_info": {
   "codemirror_mode": {
    "name": "ipython",
    "version": 3
   },
   "file_extension": ".py",
   "mimetype": "text/x-python",
   "name": "python",
   "nbconvert_exporter": "python",
   "pygments_lexer": "ipython3",
   "version": "3.6.4"
  }
 },
 "nbformat": 4,
 "nbformat_minor": 2
}
